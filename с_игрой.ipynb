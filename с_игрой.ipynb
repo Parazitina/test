{
  "nbformat": 4,
  "nbformat_minor": 0,
  "metadata": {
    "colab": {
      "provenance": [],
      "authorship_tag": "ABX9TyPdL2yTCDVrGVjg/l6ADEMj",
      "include_colab_link": true
    },
    "kernelspec": {
      "name": "python3",
      "display_name": "Python 3"
    },
    "language_info": {
      "name": "python"
    }
  },
  "cells": [
    {
      "cell_type": "markdown",
      "metadata": {
        "id": "view-in-github",
        "colab_type": "text"
      },
      "source": [
        "<a href=\"https://colab.research.google.com/github/Parazitina/test/blob/main/%D1%81_%D0%B8%D0%B3%D1%80%D0%BE%D0%B9.ipynb\" target=\"_parent\"><img src=\"https://colab.research.google.com/assets/colab-badge.svg\" alt=\"Open In Colab\"/></a>"
      ]
    },
    {
      "cell_type": "code",
      "execution_count": null,
      "metadata": {
        "colab": {
          "base_uri": "https://localhost:8080/"
        },
        "id": "3b4aSothsSLL",
        "outputId": "e857d7b0-c5d3-4109-c3dc-b0edc935f396"
      },
      "outputs": [
        {
          "output_type": "stream",
          "name": "stdout",
          "text": [
            "Это простая строка\n"
          ]
        }
      ],
      "source": [
        "## Введите свое решение ниже\n",
        "def get_min_string(s1,s2):\n",
        "    def get_count_unique_symbols(s):\n",
        "        s=s.lower().replace(' ','')\n",
        "        return len(set(s))\n",
        "    s1_len = get_count_unique_symbols(s1)\n",
        "    s2_len = get_count_unique_symbols(s2)\n",
        "    if s1_len<s2_len:\n",
        "        return s1\n",
        "    else:\n",
        "        return s2\n",
        "print(get_min_string(s1='Это простая строка', s2='This is a simple string'))"
      ]
    },
    {
      "cell_type": "code",
      "source": [
        "import numpy as np\n",
        "\n",
        "count = 0\n",
        "number = np.random.randint(1, 101)\n",
        "print(\"Загадано число от 1 до 100\")\n",
        "min = 0\n",
        "max = 100\n",
        "while True:\n",
        "    predict = round((min+max)/2)\n",
        "    #predict = int(input())\n",
        "    count += 1\n",
        "    if number == predict:\n",
        "        break\n",
        "    elif number > predict:\n",
        "        min = predict\n",
        "        print(f\"Угадываемое число больше {predict}\")\n",
        "        print(f'Алгоритм бинарного поиска рекомендует вам число:{round((max + min) / 2)}')\n",
        "    elif number < predict:\n",
        "        max = predict\n",
        "        print(f\"Угадываемое число меньше {predict}\")\n",
        "        print(f'Алгоритм бинарного поиска рекомендует вам число:{round((max+min)/2)}')\n",
        "\n",
        "\n",
        "print(f\"Вы угадали число {number} за {count} попыток.\")"
      ],
      "metadata": {
        "colab": {
          "base_uri": "https://localhost:8080/"
        },
        "id": "_Ju3tlj3gpsN",
        "outputId": "d35377cb-5a5b-4bb6-ed68-58efc02726e0"
      },
      "execution_count": 1,
      "outputs": [
        {
          "output_type": "stream",
          "name": "stdout",
          "text": [
            "Загадано число от 1 до 100\n",
            "Угадываемое число больше 50\n",
            "Алгоритм бинарного поиска рекомендует вам число:75\n",
            "Угадываемое число больше 75\n",
            "Алгоритм бинарного поиска рекомендует вам число:88\n",
            "Угадываемое число больше 88\n",
            "Алгоритм бинарного поиска рекомендует вам число:94\n",
            "Угадываемое число больше 94\n",
            "Алгоритм бинарного поиска рекомендует вам число:97\n",
            "Угадываемое число меньше 97\n",
            "Алгоритм бинарного поиска рекомендует вам число:96\n",
            "Угадываемое число меньше 96\n",
            "Алгоритм бинарного поиска рекомендует вам число:95\n",
            "Вы угадали число 95 за 7 попыток.\n"
          ]
        }
      ]
    }
  ]
}